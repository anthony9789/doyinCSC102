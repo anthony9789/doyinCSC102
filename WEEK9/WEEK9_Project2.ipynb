{
 "cells": [
  {
   "cell_type": "code",
   "execution_count": 8,
   "id": "28100c17",
   "metadata": {},
   "outputs": [
    {
     "name": "stdout",
     "output_type": "stream",
     "text": [
      "Enter a location: epe\n",
      "Enter a location: 9000\n",
      "The cost is 5000\n"
     ]
    }
   ],
   "source": [
    "loc = str(input(\"Enter a location: \"))\n",
    "num = int(input(\"Enter a location: \"))   \n",
    "class delivery():  \n",
    "    def __init__(self, location, weight):\n",
    "        self.location = location.lower()\n",
    "        self.weight = weight\n",
    "        \n",
    "    def checkLocation(self):\n",
    "        if self.location == \"pau\":\n",
    "            self.PAU()\n",
    "        elif self.location == \"epe\":\n",
    "            self.EPE()\n",
    "        else:\n",
    "            print(\"Sorry we do not deliver to this location\")\n",
    "            \n",
    "    def PAU(self):\n",
    "        if self.weight < 10:\n",
    "            print(\"The cost is 1500\")\n",
    "        else:\n",
    "            print(\"The cost is 2000\")\n",
    "            \n",
    "    def EPE(self):\n",
    "        if self.weight < 10:\n",
    "            print(\"The cost is 4000\")\n",
    "        else:\n",
    "            print(\"The cost is 5000\")\n",
    "            \n",
    "m = delivery(loc, num)     \n",
    "m.checkLocation()"
   ]
  },
  {
   "cell_type": "code",
   "execution_count": null,
   "id": "3c973660",
   "metadata": {},
   "outputs": [],
   "source": []
  }
 ],
 "metadata": {
  "kernelspec": {
   "display_name": "Python 3 (ipykernel)",
   "language": "python",
   "name": "python3"
  },
  "language_info": {
   "codemirror_mode": {
    "name": "ipython",
    "version": 3
   },
   "file_extension": ".py",
   "mimetype": "text/x-python",
   "name": "python",
   "nbconvert_exporter": "python",
   "pygments_lexer": "ipython3",
   "version": "3.9.7"
  }
 },
 "nbformat": 4,
 "nbformat_minor": 5
}
