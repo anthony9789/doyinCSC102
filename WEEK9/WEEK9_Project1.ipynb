{
 "cells": [
  {
   "cell_type": "code",
   "execution_count": 29,
   "id": "24617575",
   "metadata": {},
   "outputs": [
    {
     "name": "stdout",
     "output_type": "stream",
     "text": [
      "Please enter your name: Doyin Adeniji\n",
      "Doyin Adeniji Sorry, you're not one of us\n"
     ]
    }
   ],
   "source": [
    "import random\n",
    "\n",
    "class Employee():\n",
    "    Employees = [ \"Mary Evans\", \"Eyo Ishan\", \"Durojaiye Dare\", \n",
    "    \"Adams Ali\", \"Andrew Ugwu\", \"Stella Mankinde\", \"Jane Akibo\", \"Ago James\", \n",
    "    \"Michell Taiwo\", \"Abraham Jones\" , \"Nicole Anide\", \n",
    "    \"Kosi Korso\", \"Adele Martins\", \"Emmanuel Ojo\", \"Ajayi Fatima\"]\n",
    "    \n",
    "    Tasks = [ \"Loading\", \"Transporting\", \n",
    "    \"Reviewing Orders\", \"Customer Service\", \"Delivering Items\"]\n",
    "    \n",
    "    def __init__(self, name):\n",
    "        self.name = name\n",
    "        \n",
    "        \n",
    "    # check if person in employees list\n",
    "    def check_employee(self):\n",
    "        if self.name in self.Employees:\n",
    "            self.access = True\n",
    "            print(\"Welcome\", self.name)\n",
    "            \n",
    "    #take attendance\n",
    "    def take_attendance(self):\n",
    "        if self.name in self.Employees:\n",
    "            self.present = \"Present\"\n",
    "            print(self.name, \"is\", self.present)\n",
    "            \n",
    "    #assign tasks to people\n",
    "    def assign_task(self):\n",
    "        if self.name in self.Employees:\n",
    "            self.task = random.choice(self.Tasks)\n",
    "            print(self.name, 'Your job is', self.task)\n",
    "    \n",
    "    # to refuse access\n",
    "    def refuse_access(self):\n",
    "        if self.name not in self.Employees:\n",
    "            print(self.name , \"Sorry, you're not one of us\")\n",
    "\n",
    "#name = input(\"Please enter your name: \")\n",
    "#person = Employee(name))\n",
    "\n",
    "person = Employee(input(\"Please enter your name: \"))\n",
    "\n",
    "person.check_employee()\n",
    "person.take_attendance()\n",
    "person.assign_task()\n",
    "person.refuse_access()"
   ]
  },
  {
   "cell_type": "code",
   "execution_count": null,
   "id": "bad5156f",
   "metadata": {},
   "outputs": [],
   "source": []
  }
 ],
 "metadata": {
  "kernelspec": {
   "display_name": "Python 3 (ipykernel)",
   "language": "python",
   "name": "python3"
  },
  "language_info": {
   "codemirror_mode": {
    "name": "ipython",
    "version": 3
   },
   "file_extension": ".py",
   "mimetype": "text/x-python",
   "name": "python",
   "nbconvert_exporter": "python",
   "pygments_lexer": "ipython3",
   "version": "3.9.7"
  }
 },
 "nbformat": 4,
 "nbformat_minor": 5
}
