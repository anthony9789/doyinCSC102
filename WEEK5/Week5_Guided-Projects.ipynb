{
 "cells": [
  {
   "cell_type": "markdown",
   "id": "f5a1f78e",
   "metadata": {},
   "source": [
    "# Project 1"
   ]
  },
  {
   "cell_type": "code",
   "execution_count": 28,
   "id": "586e2ec8",
   "metadata": {},
   "outputs": [],
   "source": [
    "def avoids():\n",
    "    forbidden= list(str(input(\"What are your forbidden letters?:  \")))\n",
    "    word =str(input(\"What word is to be checked?:  \")).split(\" \")\n",
    "    li = []\n",
    "    no = 0\n",
    "    for i in word:\n",
    "        boo= True\n",
    "        for j in forbidden:\n",
    "            if j in i:\n",
    "                boo = False\n",
    "            if boo == False:\n",
    "                li.append(i)\n",
    "            else:\n",
    "                no += 1\n",
    "            if len(li)== 0:\n",
    "                print(\"The word does not contain the forbidden letters\")\n",
    "            else:\n",
    "                print(no, \"Words do not use forbidden letters\")\n",
    "                print(li, \"Use forbidden letters\")\n",
    "       \n",
    "    avoids()    "
   ]
  },
  {
   "cell_type": "markdown",
   "id": "aac47c82",
   "metadata": {},
   "source": [
    "# Project 2"
   ]
  },
  {
   "cell_type": "code",
   "execution_count": 26,
   "id": "53d41473",
   "metadata": {},
   "outputs": [],
   "source": [
    "def uses_all():\n",
    "    letters =[\"a\", \"e\", \"i\", \"o\", \"u\", ]\n",
    "    required_letters= list(str(input(\"Enter the required letters  \")))\n",
    "    word = str(input(\"What is your word?  \"))\n",
    "    li= []\n",
    "    for i in required_letters:\n",
    "        if i in word:\n",
    "            continue\n",
    "        else:\n",
    "            li.append(i)\n",
    "        if len(li) > 0:\n",
    "            print(False)\n",
    "            print(\"The required letters\",li,\" cannot be found\")\n",
    "        else:\n",
    "            print(True)\n",
    "        boo = True\n",
    "        for j in letters:\n",
    "            if j in word:\n",
    "                continue\n",
    "            else:\n",
    "                boo = False\n",
    "        if boo:\n",
    "            print(\"It uses all the vowels\")\n",
    "    uses_all()        "
   ]
  },
  {
   "cell_type": "markdown",
   "id": "1cbdacdd",
   "metadata": {},
   "source": [
    "# Project 3"
   ]
  },
  {
   "cell_type": "code",
   "execution_count": 27,
   "id": "f66893ba",
   "metadata": {},
   "outputs": [
    {
     "name": "stdout",
     "output_type": "stream",
     "text": [
      "Jack please enter your choice  evens\n",
      "Jane please enter your choice  odds\n",
      "Jack, what number do you choose?  5\n",
      "Jane, what number do you choose?  0\n",
      "Jane wins!, and the winner is odds\n"
     ]
    }
   ],
   "source": [
    "x = str(input(\"Jack please enter your choice  \"))\n",
    "y= str(input(\"Jane please enter your choice  \"))\n",
    "int1= int(input(\"Jack, what number do you choose?  \"))\n",
    "int2= int(input(\"Jane, what number do you choose?  \"))\n",
    "total= int1 + int2\n",
    "if total % 2 == 0:\n",
    "    output= \"evens\"\n",
    "else:\n",
    "    output= \"odds\"\n",
    "if x == output:\n",
    "    print(\"Jack wins!, and the winner is\", x)\n",
    "elif y == output:\n",
    "    print(\"Jane wins!, and the winner is\", y)\n",
    "    "
   ]
  },
  {
   "cell_type": "markdown",
   "id": "55d3f43e",
   "metadata": {},
   "source": [
    "# Project 4"
   ]
  },
  {
   "cell_type": "code",
   "execution_count": 23,
   "id": "9d9f9168",
   "metadata": {},
   "outputs": [
    {
     "name": "stdout",
     "output_type": "stream",
     "text": [
      "Enter distance in miles  50\n",
      "Enter time in hours  2\n",
      "The car is moving at 25.0 miles per hour  \n"
     ]
    }
   ],
   "source": [
    "import math\n",
    "distance= int(input(\"Enter distance in miles  \"))\n",
    "time = float(input(\"Enter time in hours  \"))\n",
    "velocity = distance/time\n",
    "print(\"The car is moving at\",velocity,\"miles per hour  \")"
   ]
  },
  {
   "cell_type": "code",
   "execution_count": null,
   "id": "04c8d6c4",
   "metadata": {},
   "outputs": [],
   "source": []
  }
 ],
 "metadata": {
  "kernelspec": {
   "display_name": "Python 3 (ipykernel)",
   "language": "python",
   "name": "python3"
  },
  "language_info": {
   "codemirror_mode": {
    "name": "ipython",
    "version": 3
   },
   "file_extension": ".py",
   "mimetype": "text/x-python",
   "name": "python",
   "nbconvert_exporter": "python",
   "pygments_lexer": "ipython3",
   "version": "3.9.7"
  }
 },
 "nbformat": 4,
 "nbformat_minor": 5
}
