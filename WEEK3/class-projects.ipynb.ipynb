{
 "cells": [
  {
   "cell_type": "markdown",
   "id": "aaedce0e",
   "metadata": {},
   "source": [
    "# NAME:DOYIN ADENIJI\n",
    "## MATRICULATION NUMBER: 21120612539\n",
    "### EMAIL:adedoyin.adeniji@pau.edu.ng\n"
   ]
  },
  {
   "cell_type": "code",
   "execution_count": 10,
   "id": "318fc9af",
   "metadata": {},
   "outputs": [
    {
     "name": "stdout",
     "output_type": "stream",
     "text": [
      "What is your number?  2\n",
      "15\n"
     ]
    }
   ],
   "source": [
    "\n",
    "a=int(input(\"What is your number?  \"))\n",
    "b=a-17\n",
    "if a<17:\n",
    "    print(-1*b)    \n",
    "if a>17:\n",
    "    print(2*b)"
   ]
  },
  {
   "cell_type": "markdown",
   "id": "eeea4f8a",
   "metadata": {},
   "source": [
    "# EXERCISE DESCRIPTION\n",
    "\n",
    "The code above takes the input of a number(a),a variable(b) is equals to \"a\" -17.If \"a\" is less than 17, the absolute value of the answer is returned.If \"a\" is greater than 17, then double the absolute value of the answer is returned.\n"
   ]
  },
  {
   "cell_type": "code",
   "execution_count": 4,
   "id": "d2960419",
   "metadata": {},
   "outputs": [
    {
     "name": "stdout",
     "output_type": "stream",
     "text": [
      "What is your first number?  1\n",
      "What is your second number?  4\n",
      "What is your third number?  3\n",
      "8\n"
     ]
    }
   ],
   "source": [
    "x=int(input(\"What is your first number?  \"))\n",
    "y=int(input(\"What is your second number?  \"))\n",
    "z=int(input(\"What is your third number?  \"))\n",
    "if x== y== z:\n",
    "    print(3 * (x+y+z))\n",
    "    \n",
    "else:\n",
    "    print(x+y+z)\n",
    "\n",
    "    \n"
   ]
  },
  {
   "cell_type": "markdown",
   "id": "eccfa459",
   "metadata": {},
   "source": [
    "# EXERCISE DESCRIPTION\n",
    "\n",
    "The code above takes 3 numbers as input. These numbers are x, y and z.\n",
    "If all three numbers are the same, then thrice the sum of the numbers is returned. If all the numbers are not equal,then all the numbers are simply added."
   ]
  },
  {
   "cell_type": "code",
   "execution_count": 13,
   "id": "4f9a86e7",
   "metadata": {},
   "outputs": [
    {
     "name": "stdout",
     "output_type": "stream",
     "text": [
      "What is your first integer?  3\n",
      "What is your second integer?  2\n",
      "TRUE\n"
     ]
    }
   ],
   "source": [
    "a=int(input(\"What is your first integer?  \"))\n",
    "b=int(input(\"What is your second integer?  \"))\n",
    "c=a+b\n",
    "d=a-b\n",
    "if a == b:\n",
    "    print(\"TRUE\")\n",
    "if c == 5:\n",
    "    print(\"TRUE\")\n",
    "if d == 5:\n",
    "    print(\"TRUE\")"
   ]
  },
  {
   "cell_type": "markdown",
   "id": "8cf8c795",
   "metadata": {},
   "source": [
    "# EXERCISE DESCRIPTION\n",
    "\n",
    "The python program above takes two numbers as input. The program returns \"TRUE\" if the two numbers are equal or the sum or difference between the first number and the second number is equals to 5."
   ]
  },
  {
   "cell_type": "code",
   "execution_count": 1,
   "id": "75f40bf1",
   "metadata": {},
   "outputs": [
    {
     "name": "stdout",
     "output_type": "stream",
     "text": [
      "What is your first integer?  3\n",
      "What is your second integer?  2\n",
      "What is your third integer?  7\n",
      "Sorted order of the numbers:   2 3 7\n"
     ]
    }
   ],
   "source": [
    "integer1= int(input(\"What is your first integer?  \"))\n",
    "integer2= int(input(\"What is your second integer?  \"))\n",
    "integer3= int(input(\"What is your third integer?  \"))\n",
    "\n",
    "x= min(integer1, integer2, integer3)\n",
    "y= max(integer1, integer2, integer3)\n",
    "z=(integer1 + integer2 + integer3 -x - y)\n",
    "\n",
    "print(\"Sorted order of the numbers:  \", x, z, y)\n"
   ]
  },
  {
   "cell_type": "markdown",
   "id": "66e377ee",
   "metadata": {},
   "source": [
    "# EXERCISE DESCRIPTION\n",
    "\n",
    "The python program above takes 3 INTEGERS as input. A variable \"x\" is used for the minimum value between the 3 integers. Another variable \"y\" is used for the maximum value between the 3 integers. A third variable \"z\" is the summation of the three integers minus the maximum integer(y) and the minimum integer(x). The integers are sorted and printed in the order of:x, z, y."
   ]
  },
  {
   "cell_type": "code",
   "execution_count": 25,
   "id": "81673213",
   "metadata": {},
   "outputs": [
    {
     "ename": "NameError",
     "evalue": "name 'n' is not defined",
     "output_type": "error",
     "traceback": [
      "\u001b[1;31m---------------------------------------------------------------------------\u001b[0m",
      "\u001b[1;31mNameError\u001b[0m                                 Traceback (most recent call last)",
      "\u001b[1;32m~\\AppData\\Local\\Temp/ipykernel_6148/1650897249.py\u001b[0m in \u001b[0;36m<module>\u001b[1;34m\u001b[0m\n\u001b[0;32m      3\u001b[0m     \u001b[1;32mif\u001b[0m \u001b[0mn\u001b[0m \u001b[1;33m==\u001b[0m \u001b[1;36m1\u001b[0m\u001b[1;33m:\u001b[0m\u001b[1;33m\u001b[0m\u001b[1;33m\u001b[0m\u001b[0m\n\u001b[0;32m      4\u001b[0m         \u001b[0mtotal\u001b[0m \u001b[1;33m==\u001b[0m \u001b[1;36m0\u001b[0m\u001b[1;33m\u001b[0m\u001b[1;33m\u001b[0m\u001b[0m\n\u001b[1;32m----> 5\u001b[1;33m \u001b[1;32mwhile\u001b[0m \u001b[0mn\u001b[0m \u001b[1;33m>\u001b[0m \u001b[1;36m0\u001b[0m\u001b[1;33m:\u001b[0m\u001b[1;33m\u001b[0m\u001b[1;33m\u001b[0m\u001b[0m\n\u001b[0m\u001b[0;32m      6\u001b[0m     \u001b[0mtotal\u001b[0m\u001b[1;33m=\u001b[0m \u001b[0mn\u001b[0m \u001b[1;33m*\u001b[0m \u001b[0mn\u001b[0m \u001b[1;33m*\u001b[0m \u001b[0mn\u001b[0m\u001b[1;33m\u001b[0m\u001b[1;33m\u001b[0m\u001b[0m\n\u001b[0;32m      7\u001b[0m \u001b[0mprint\u001b[0m\u001b[1;33m(\u001b[0m\u001b[0mtotal\u001b[0m\u001b[1;33m)\u001b[0m\u001b[1;33m\u001b[0m\u001b[1;33m\u001b[0m\u001b[0m\n",
      "\u001b[1;31mNameError\u001b[0m: name 'n' is not defined"
     ]
    }
   ],
   "source": [
    "def sum_of_cubes(n):\n",
    "    n= int(input(\"What is your number?\"))\n",
    "    if n == 1:\n",
    "        total == 0\n",
    "while n > 0:\n",
    "    total= n * n * n\n",
    "print(total)\n",
    "print(\"sum of the cube of all positive integers smaller than the specified number\")"
   ]
  },
  {
   "cell_type": "code",
   "execution_count": null,
   "id": "09e02dc9",
   "metadata": {},
   "outputs": [],
   "source": []
  }
 ],
 "metadata": {
  "kernelspec": {
   "display_name": "Python 3 (ipykernel)",
   "language": "python",
   "name": "python3"
  },
  "language_info": {
   "codemirror_mode": {
    "name": "ipython",
    "version": 3
   },
   "file_extension": ".py",
   "mimetype": "text/x-python",
   "name": "python",
   "nbconvert_exporter": "python",
   "pygments_lexer": "ipython3",
   "version": "3.9.7"
  }
 },
 "nbformat": 4,
 "nbformat_minor": 5
}
