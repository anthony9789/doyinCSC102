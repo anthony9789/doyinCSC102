{
 "cells": [
  {
   "cell_type": "markdown",
   "id": "e7eab35c",
   "metadata": {},
   "source": [
    "# Program to print the pattern for a number input by the user."
   ]
  },
  {
   "cell_type": "code",
   "execution_count": 1,
   "id": "b8da9a47",
   "metadata": {},
   "outputs": [
    {
     "name": "stdout",
     "output_type": "stream",
     "text": [
      "Enter a number to generate its pattern = 2\n",
      "1 \n",
      "1 2 \n"
     ]
    }
   ],
   "source": [
    "num = int(input(\"Enter a number to generate its pattern = \"))\n",
    "for i in range(1,num + 1):\n",
    "    for j in range(1, i + 1):\n",
    "        print(j, end = \" \")\n",
    "    print()  "
   ]
  },
  {
   "cell_type": "markdown",
   "id": "ad15a9ae",
   "metadata": {},
   "source": [
    "# Program to find prime numbers between 2 to 50 using nested for loops."
   ]
  },
  {
   "cell_type": "code",
   "execution_count": 2,
   "id": "cae6b365",
   "metadata": {},
   "outputs": [
    {
     "name": "stdout",
     "output_type": "stream",
     "text": [
      "2 is a prime number\n",
      "3 is a prime number\n",
      "5 is a prime number\n",
      "7 is a prime number\n",
      "11 is a prime number\n",
      "13 is a prime number\n",
      "17 is a prime number\n",
      "19 is a prime number\n",
      "23 is a prime number\n",
      "29 is a prime number\n",
      "31 is a prime number\n",
      "37 is a prime number\n",
      "41 is a prime number\n",
      "43 is a prime number\n",
      "47 is a prime number\n",
      "Bye Bye!!\n"
     ]
    }
   ],
   "source": [
    "num = 2\n",
    "for i in range(2,50):\n",
    "    j= 2\n",
    "    while (j<= (i/2)):\n",
    "        if (i % j ==0): #factor found\n",
    "            break #break out of while loop\n",
    "        j +=1\n",
    "    if (j > i/j) : #no factor found\n",
    "        print (i, \"is a prime number\")\n",
    "print(\"Bye Bye!!\")        "
   ]
  },
  {
   "cell_type": "markdown",
   "id": "494555cc",
   "metadata": {},
   "source": [
    "# Write a program to calculate the factorial of a given number."
   ]
  },
  {
   "cell_type": "code",
   "execution_count": 6,
   "id": "6815d211",
   "metadata": {},
   "outputs": [
    {
     "name": "stdout",
     "output_type": "stream",
     "text": [
      "Enter a number:  9\n",
      "factorial of  9  is  362880\n"
     ]
    }
   ],
   "source": [
    "#The following program uses a for loop nested inside an if..else\n",
    "#block to calculate the factorial of a given number\n",
    "num = int(input(\"Enter a number:  \"))\n",
    "fact = 1\n",
    "# check if a the number is negative, positive or zero\n",
    "if num < 0:\n",
    "    print(\"Sorry, factorial does not exist for negative numbers\")\n",
    "elif num ==0:\n",
    "    print(\"The factorial of 0 is 1\")\n",
    "else:\n",
    "    for i in range(1, num + 1):\n",
    "        fact = fact * i\n",
    "    \n",
    "    print(\"factorial of \", num, \" is \", fact)   "
   ]
  },
  {
   "cell_type": "markdown",
   "id": "98865dfd",
   "metadata": {},
   "source": [
    "# Program to check if the input number is prime or not."
   ]
  },
  {
   "cell_type": "code",
   "execution_count": 7,
   "id": "5b64bc7f",
   "metadata": {},
   "outputs": [
    {
     "name": "stdout",
     "output_type": "stream",
     "text": [
      "Enter the number to be checked:  5\n",
      "5 is a prime number\n"
     ]
    }
   ],
   "source": [
    "#Write a Python program to check if a number is prime or not.\n",
    "num = int(input(\"Enter the number to be checked:  \"))\n",
    "flag = 0 #presume num is a prime number\n",
    "if num > 1:\n",
    "    for i in range(2, int(num/2)):\n",
    "        if (num % i ==0):\n",
    "            flag = 1 # num is not a prime number\n",
    "            break #no need to check any further\n",
    "    if flag == 1:\n",
    "        print(num, \"is not a prime number\")\n",
    "    else:\n",
    "        print(num, \"is a prime number\")\n",
    "else :\n",
    "    print(\"Entered number is <= 1, execute again!\")"
   ]
  },
  {
   "cell_type": "code",
   "execution_count": null,
   "id": "1daeb358",
   "metadata": {},
   "outputs": [],
   "source": []
  }
 ],
 "metadata": {
  "kernelspec": {
   "display_name": "Python 3 (ipykernel)",
   "language": "python",
   "name": "python3"
  },
  "language_info": {
   "codemirror_mode": {
    "name": "ipython",
    "version": 3
   },
   "file_extension": ".py",
   "mimetype": "text/x-python",
   "name": "python",
   "nbconvert_exporter": "python",
   "pygments_lexer": "ipython3",
   "version": "3.9.7"
  }
 },
 "nbformat": 4,
 "nbformat_minor": 5
}
